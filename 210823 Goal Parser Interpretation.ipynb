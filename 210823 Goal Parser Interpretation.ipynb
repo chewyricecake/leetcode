{
 "cells": [
  {
   "cell_type": "code",
   "execution_count": 60,
   "metadata": {},
   "outputs": [],
   "source": [
    "def interpret(command):\n",
    "    check = \"\"\n",
    "    res = \"\"\n",
    "    dic = {\"G\":\"G\",\"()\":\"o\",\"(al)\":\"al\"}\n",
    "    for i in range(len(command)):\n",
    "        check +=command[i]\n",
    "        if(check in dic):\n",
    "            res+=dic[check]\n",
    "            check = \"\"\n",
    "    return(res)"
   ]
  },
  {
   "cell_type": "code",
   "execution_count": 64,
   "metadata": {},
   "outputs": [],
   "source": [
    "def interpret2(command):\n",
    "    command=command.replace(\"G\",\"G\")\n",
    "    command=command.replace(\"()\",\"o\")\n",
    "    command=command.replace(\"(al)\",\"al\")\n",
    "    return(command)"
   ]
  },
  {
   "cell_type": "code",
   "execution_count": 65,
   "metadata": {},
   "outputs": [
    {
     "data": {
      "text/plain": [
       "'alGalooG'"
      ]
     },
     "execution_count": 65,
     "metadata": {},
     "output_type": "execute_result"
    }
   ],
   "source": [
    "command1 = \"G()()()()(al)\"\n",
    "command2 = \"(al)G(al)()()G\"\n",
    "interpret2(command1)\n",
    "interpret2(command2)"
   ]
  },
  {
   "cell_type": "code",
   "execution_count": null,
   "metadata": {},
   "outputs": [],
   "source": []
  },
  {
   "cell_type": "code",
   "execution_count": null,
   "metadata": {},
   "outputs": [],
   "source": []
  }
 ],
 "metadata": {
  "kernelspec": {
   "display_name": "Python 3",
   "language": "python",
   "name": "python3"
  },
  "language_info": {
   "codemirror_mode": {
    "name": "ipython",
    "version": 3
   },
   "file_extension": ".py",
   "mimetype": "text/x-python",
   "name": "python",
   "nbconvert_exporter": "python",
   "pygments_lexer": "ipython3",
   "version": "3.8.3"
  }
 },
 "nbformat": 4,
 "nbformat_minor": 4
}
