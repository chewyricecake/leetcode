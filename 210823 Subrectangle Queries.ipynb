{
 "cells": [
  {
   "cell_type": "code",
   "execution_count": 125,
   "metadata": {},
   "outputs": [],
   "source": [
    "class SubrectangleQueries(object):\n",
    "    rectangle=[]\n",
    "\n",
    "    def __init__(self, rectangle):\n",
    "        \"\"\"\n",
    "        :type rectangle: List[List[int]]\n",
    "        \"\"\"\n",
    "        self.rectangle = rectangle\n",
    "\n",
    "        \n",
    "    def printRec(self, row, col):\n",
    "        for i in range(0,row):\n",
    "            for j in range(0,col):\n",
    "                print(self.rectangle[i][j])\n",
    "        \n",
    "        \n",
    "    def updateSubrectangle(self, row1, col1, row2, col2, newValue):\n",
    "        \"\"\"\n",
    "        :type row1: int\n",
    "        :type col1: int\n",
    "        :type row2: int\n",
    "        :type col2: int\n",
    "        :type newValue: int\n",
    "        :rtype: None\n",
    "        \"\"\"\n",
    "        for i in range(row1,row2+1):\n",
    "            for j in range(col1,col2+1):\n",
    "                self.rectangle[i][j]=newValue\n",
    "\n",
    "\n",
    "    def getValue(self, row, col):\n",
    "        \"\"\"\n",
    "        :type row: int\n",
    "        :type col: int\n",
    "        :rtype: int\n",
    "        \"\"\"\n",
    "        return self.rectangle[row][col]"
   ]
  },
  {
   "cell_type": "code",
   "execution_count": 126,
   "metadata": {},
   "outputs": [],
   "source": [
    "rec = SubrectangleQueries([[1,2,1],[4,3,4],[3,2,1],[1,1,1]])"
   ]
  },
  {
   "cell_type": "code",
   "execution_count": 127,
   "metadata": {},
   "outputs": [],
   "source": [
    "rec.getValue(0, 0); \n",
    "rec.updateSubrectangle(0, 0, 2, 2, 100);\n",
    "rec.getValue(0, 0); \n",
    "rec.getValue(2, 2); \n",
    "rec.updateSubrectangle(1, 1, 2, 2, 20);\n",
    "rec.getValue(2, 2); "
   ]
  },
  {
   "cell_type": "code",
   "execution_count": null,
   "metadata": {},
   "outputs": [],
   "source": []
  }
 ],
 "metadata": {
  "kernelspec": {
   "display_name": "Python 3",
   "language": "python",
   "name": "python3"
  },
  "language_info": {
   "codemirror_mode": {
    "name": "ipython",
    "version": 3
   },
   "file_extension": ".py",
   "mimetype": "text/x-python",
   "name": "python",
   "nbconvert_exporter": "python",
   "pygments_lexer": "ipython3",
   "version": "3.8.3"
  }
 },
 "nbformat": 4,
 "nbformat_minor": 4
}
