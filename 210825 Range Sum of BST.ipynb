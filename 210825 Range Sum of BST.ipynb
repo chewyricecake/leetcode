{
 "cells": [
  {
   "cell_type": "code",
   "execution_count": 9,
   "metadata": {},
   "outputs": [],
   "source": [
    "    def rangeSumBST(root, low, high):\n",
    "        \"\"\"\n",
    "        :type root: TreeNode\n",
    "        :type low: int\n",
    "        :type high: int\n",
    "        :rtype: int\n",
    "        \"\"\"\n",
    "        \n",
    "        ans = 0\n",
    "        if not(root):\n",
    "            return 0\n",
    "        elif root.val>=low and root.val<=high:\n",
    "            ans += root.val\n",
    "\n",
    "        return ans + self.rangeSumBST(root.left,low,high) + self.rangeSumBST(root.right,low,high)"
   ]
  },
  {
   "cell_type": "code",
   "execution_count": 11,
   "metadata": {},
   "outputs": [
    {
     "data": {
      "text/plain": [
       "32"
      ]
     },
     "execution_count": 11,
     "metadata": {},
     "output_type": "execute_result"
    }
   ],
   "source": [
    "root = [10,5,15,3,7,18]\n",
    "low = 7\n",
    "high = 15\n",
    "\n",
    "rangeSumBST(root, low, high)\n"
   ]
  },
  {
   "cell_type": "code",
   "execution_count": null,
   "metadata": {},
   "outputs": [],
   "source": []
  },
  {
   "cell_type": "code",
   "execution_count": null,
   "metadata": {},
   "outputs": [],
   "source": []
  }
 ],
 "metadata": {
  "kernelspec": {
   "display_name": "Python 3",
   "language": "python",
   "name": "python3"
  },
  "language_info": {
   "codemirror_mode": {
    "name": "ipython",
    "version": 3
   },
   "file_extension": ".py",
   "mimetype": "text/x-python",
   "name": "python",
   "nbconvert_exporter": "python",
   "pygments_lexer": "ipython3",
   "version": "3.8.3"
  }
 },
 "nbformat": 4,
 "nbformat_minor": 4
}
