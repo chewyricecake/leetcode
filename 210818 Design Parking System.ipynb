{
 "cells": [
  {
   "cell_type": "code",
   "execution_count": 35,
   "metadata": {},
   "outputs": [],
   "source": [
    "class ParkingSystem(object):\n",
    "\n",
    "    def __init__(self, big, medium, small):\n",
    "        \"\"\"\n",
    "        :type big: int\n",
    "        :type medium: int\n",
    "        :type small: int\n",
    "        \"\"\"\n",
    "        self.slots={1: big, 2: medium, 3: small}\n",
    "        \n",
    "        \n",
    "\n",
    "    def addCar(self, carType):\n",
    "        \"\"\"\n",
    "        :type carType: int\n",
    "        :rtype: bool\n",
    "        \"\"\"\n",
    "        if self.slots[carType] == 0:\n",
    "            return False\n",
    "        else:\n",
    "            self.slots[carType] -=1\n",
    "            return True"
   ]
  },
  {
   "cell_type": "code",
   "execution_count": 36,
   "metadata": {},
   "outputs": [
    {
     "data": {
      "text/plain": [
       "[[1, 1, 0], [1], [2], [3], [1]]"
      ]
     },
     "execution_count": 36,
     "metadata": {},
     "output_type": "execute_result"
    }
   ],
   "source": [
    "[\"ParkingSystem\", \"addCar\", \"addCar\", \"addCar\", \"addCar\"]\n",
    "[[1, 1, 0], [1], [2], [3], [1]]"
   ]
  },
  {
   "cell_type": "code",
   "execution_count": 37,
   "metadata": {},
   "outputs": [
    {
     "name": "stdout",
     "output_type": "stream",
     "text": [
      "[True, True, False, False]\n"
     ]
    }
   ],
   "source": [
    "res = []\n",
    "PS = ParkingSystem(1,1,0)\n",
    "res.append(PS.addCar(1))\n",
    "res.append(PS.addCar(2))\n",
    "res.append(PS.addCar(3))\n",
    "res.append(PS.addCar(1))\n",
    "\n",
    "print(res)"
   ]
  },
  {
   "cell_type": "code",
   "execution_count": null,
   "metadata": {},
   "outputs": [],
   "source": []
  },
  {
   "cell_type": "code",
   "execution_count": null,
   "metadata": {},
   "outputs": [],
   "source": []
  }
 ],
 "metadata": {
  "kernelspec": {
   "display_name": "Python 3",
   "language": "python",
   "name": "python3"
  },
  "language_info": {
   "codemirror_mode": {
    "name": "ipython",
    "version": 3
   },
   "file_extension": ".py",
   "mimetype": "text/x-python",
   "name": "python",
   "nbconvert_exporter": "python",
   "pygments_lexer": "ipython3",
   "version": "3.8.3"
  }
 },
 "nbformat": 4,
 "nbformat_minor": 4
}
