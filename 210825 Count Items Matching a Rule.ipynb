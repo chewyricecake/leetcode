{
 "cells": [
  {
   "cell_type": "code",
   "execution_count": 13,
   "metadata": {},
   "outputs": [],
   "source": [
    "\n",
    "    def countMatches(items, ruleKey, ruleValue):\n",
    "        \"\"\"\n",
    "        :type items: List[List[str]]\n",
    "        :type ruleKey: str\n",
    "        :type ruleValue: str\n",
    "        :rtype: int\n",
    "        \"\"\"\n",
    "        for item in items:\n",
    "            if(ruleKey == \"type\" and item[0] == ruleValue):\n",
    "                print(item)\n",
    "            if(ruleKey == \"color\" and item[1] == ruleValue):\n",
    "                print(item)\n",
    "            if(ruleKey == \"name\" and item[2] == ruleValue):\n",
    "                print(item)\n",
    "        "
   ]
  },
  {
   "cell_type": "code",
   "execution_count": 14,
   "metadata": {},
   "outputs": [
    {
     "name": "stdout",
     "output_type": "stream",
     "text": [
      "['computer', 'silver', 'lenovo']\n"
     ]
    }
   ],
   "source": [
    "items = [[\"phone\",\"blue\",\"pixel\"],[\"computer\",\"silver\",\"lenovo\"],[\"phone\",\"gold\",\"iphone\"]]\n",
    "\n",
    "ruleKey = \"color\"\n",
    "ruleValue = \"silver\"\n",
    "\n",
    "countMatches(items, ruleKey, ruleValue)"
   ]
  },
  {
   "cell_type": "code",
   "execution_count": null,
   "metadata": {},
   "outputs": [],
   "source": []
  }
 ],
 "metadata": {
  "kernelspec": {
   "display_name": "Python 3",
   "language": "python",
   "name": "python3"
  },
  "language_info": {
   "codemirror_mode": {
    "name": "ipython",
    "version": 3
   },
   "file_extension": ".py",
   "mimetype": "text/x-python",
   "name": "python",
   "nbconvert_exporter": "python",
   "pygments_lexer": "ipython3",
   "version": "3.8.3"
  }
 },
 "nbformat": 4,
 "nbformat_minor": 4
}
