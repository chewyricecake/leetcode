{
 "cells": [
  {
   "cell_type": "code",
   "execution_count": 44,
   "metadata": {},
   "outputs": [],
   "source": [
    "    import math\n",
    "    \n",
    "    def countPoints2(points, queries):\n",
    "        \"\"\"\n",
    "        :type points: List[List[int]]\n",
    "        :type queries: List[List[int]]\n",
    "        :rtype: List[int]\n",
    "        \"\"\"\n",
    "        ans = []\n",
    "        \n",
    "        for circle in queries:\n",
    "            count = 0\n",
    "            for point in points:\n",
    "                if math.sqrt(math.pow((point[0]-circle[0]),2)+(math.pow((point[1]-circle[1]),2))) <= circle[2] :\n",
    "                    count += 1\n",
    "            ans.append(count)\n",
    "        return ans\n",
    "                    "
   ]
  },
  {
   "cell_type": "code",
   "execution_count": 45,
   "metadata": {},
   "outputs": [],
   "source": [
    "    def countPoints(points, queries):\n",
    "        for circle in queries:\n",
    "            if(math.pow(circle[0],2)>math.sqrt(circle[1])):\n",
    "                print(circle[0])"
   ]
  },
  {
   "cell_type": "code",
   "execution_count": 46,
   "metadata": {},
   "outputs": [
    {
     "name": "stdout",
     "output_type": "stream",
     "text": [
      "[3, 2, 2]\n"
     ]
    }
   ],
   "source": [
    "points = [[1,3],[3,3],[5,3],[2,2]]\n",
    "queries = [[2,3,1],[4,3,1],[1,1,2]]\n",
    "countPoints2(points, queries)"
   ]
  },
  {
   "cell_type": "code",
   "execution_count": null,
   "metadata": {},
   "outputs": [],
   "source": []
  }
 ],
 "metadata": {
  "kernelspec": {
   "display_name": "Python 3",
   "language": "python",
   "name": "python3"
  },
  "language_info": {
   "codemirror_mode": {
    "name": "ipython",
    "version": 3
   },
   "file_extension": ".py",
   "mimetype": "text/x-python",
   "name": "python",
   "nbconvert_exporter": "python",
   "pygments_lexer": "ipython3",
   "version": "3.8.3"
  }
 },
 "nbformat": 4,
 "nbformat_minor": 4
}
