{
 "cells": [
  {
   "cell_type": "code",
   "execution_count": 4,
   "metadata": {},
   "outputs": [],
   "source": [
    "    def finalValueAfterOperations(operations):\n",
    "        \"\"\"\n",
    "        :type operations: List[str]\n",
    "        :rtype: int\n",
    "        \"\"\"\n",
    "        plus = \"+\"\n",
    "        minus = \"-\"\n",
    "        \n",
    "        X = 0\n",
    "        \n",
    "        for op in operations:\n",
    "            if plus in op:\n",
    "                X += 1\n",
    "            if minus in op:\n",
    "                X -= 1\n",
    "                \n",
    "        return X\n",
    "        "
   ]
  },
  {
   "cell_type": "code",
   "execution_count": 5,
   "metadata": {},
   "outputs": [
    {
     "name": "stdout",
     "output_type": "stream",
     "text": [
      "3\n",
      "0\n"
     ]
    }
   ],
   "source": [
    "operations1 = [\"++X\",\"++X\",\"X++\"]\n",
    "operations2 = [\"X++\",\"++X\",\"--X\",\"X--\"]\n",
    "\n",
    "finalValueAfterOperations(operations1)\n",
    "finalValueAfterOperations(operations2)"
   ]
  },
  {
   "cell_type": "code",
   "execution_count": null,
   "metadata": {},
   "outputs": [],
   "source": []
  }
 ],
 "metadata": {
  "kernelspec": {
   "display_name": "Python 3",
   "language": "python",
   "name": "python3"
  },
  "language_info": {
   "codemirror_mode": {
    "name": "ipython",
    "version": 3
   },
   "file_extension": ".py",
   "mimetype": "text/x-python",
   "name": "python",
   "nbconvert_exporter": "python",
   "pygments_lexer": "ipython3",
   "version": "3.8.3"
  }
 },
 "nbformat": 4,
 "nbformat_minor": 4
}
