{
 "cells": [
  {
   "cell_type": "code",
   "execution_count": 1,
   "metadata": {},
   "outputs": [
    {
     "ename": "SyntaxError",
     "evalue": "invalid syntax (<ipython-input-1-7ab5261604d3>, line 1)",
     "output_type": "error",
     "traceback": [
      "\u001b[1;36m  File \u001b[1;32m\"<ipython-input-1-7ab5261604d3>\"\u001b[1;36m, line \u001b[1;32m1\u001b[0m\n\u001b[1;33m    SELECT id,\u001b[0m\n\u001b[1;37m           ^\u001b[0m\n\u001b[1;31mSyntaxError\u001b[0m\u001b[1;31m:\u001b[0m invalid syntax\n"
     ]
    }
   ],
   "source": [
    "# Write your MySQL query statement below\n",
    "SELECT id,\n",
    "    SUM(CASE WHEN month = 'Jan' THEN revenue END) AS Jan_Revenue,\n",
    "    SUM(CASE WHEN month = 'Feb' THEN revenue END) AS Feb_Revenue,\n",
    "    SUM(CASE WHEN month = 'Mar' THEN revenue END) AS Mar_Revenue,\n",
    "    SUM(CASE WHEN month = 'Apr' THEN revenue END) AS Apr_Revenue,\n",
    "    SUM(CASE WHEN month = 'May' THEN revenue END) AS May_Revenue,\n",
    "    SUM(CASE WHEN month = 'Jun' THEN revenue END) AS Jun_Revenue,\n",
    "    SUM(CASE WHEN month = 'Jul' THEN revenue END) AS Jul_Revenue,\n",
    "    SUM(CASE WHEN month = 'Aug' THEN revenue END) AS Aug_Revenue,\n",
    "    SUM(CASE WHEN month = 'Sep' THEN revenue END) AS Sep_Revenue,\n",
    "    SUM(CASE WHEN month = 'Oct' THEN revenue END) AS Oct_Revenue,\n",
    "    SUM(CASE WHEN month = 'Nov' THEN revenue END) AS Nov_Revenue,\n",
    "    SUM(CASE WHEN month = 'Dec' THEN revenue END) AS Dec_Revenue\n",
    "FROM department\n",
    "GROUP BY id\n",
    "ORDER BY id;"
   ]
  },
  {
   "cell_type": "code",
   "execution_count": null,
   "metadata": {},
   "outputs": [],
   "source": []
  }
 ],
 "metadata": {
  "kernelspec": {
   "display_name": "Python 3",
   "language": "python",
   "name": "python3"
  },
  "language_info": {
   "codemirror_mode": {
    "name": "ipython",
    "version": 3
   },
   "file_extension": ".py",
   "mimetype": "text/x-python",
   "name": "python",
   "nbconvert_exporter": "python",
   "pygments_lexer": "ipython3",
   "version": "3.8.3"
  }
 },
 "nbformat": 4,
 "nbformat_minor": 4
}
