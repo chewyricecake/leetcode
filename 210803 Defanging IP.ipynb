{
 "cells": [
  {
   "cell_type": "code",
   "execution_count": 23,
   "metadata": {},
   "outputs": [],
   "source": [
    "    def defangBranchless(address):\n",
    "        \"\"\"\n",
    "        :type address: str\n",
    "        :rtype: str\n",
    "        \"\"\"\n",
    "        answer = \"\"\n",
    "        for a in address:\n",
    "            answer = answer + (a ==\".\")*\"[.]\" +(a!=\".\")*a\n",
    "        print(answer)\n",
    "                \n",
    "                "
   ]
  },
  {
   "cell_type": "code",
   "execution_count": 24,
   "metadata": {},
   "outputs": [],
   "source": [
    "    def defangIPAddress(address):\n",
    "        \"\"\"\n",
    "        :type address: str\n",
    "        :rtype: str\n",
    "        \"\"\"\n",
    "        answer = \"\"\n",
    "        for a in address:\n",
    "            if a == \".\":\n",
    "                answer += \"[.]\"\n",
    "            else:\n",
    "                answer += a\n",
    "        print(answer)"
   ]
  },
  {
   "cell_type": "code",
   "execution_count": 25,
   "metadata": {},
   "outputs": [
    {
     "name": "stdout",
     "output_type": "stream",
     "text": [
      "255[.]100[.]50[.]0\n",
      "255[.]100[.]50[.]0\n"
     ]
    }
   ],
   "source": [
    "defangBranchless(\"255.100.50.0\")\n",
    "defangIPAddress(\"255.100.50.0\")"
   ]
  },
  {
   "cell_type": "code",
   "execution_count": null,
   "metadata": {},
   "outputs": [],
   "source": []
  },
  {
   "cell_type": "code",
   "execution_count": null,
   "metadata": {},
   "outputs": [],
   "source": []
  }
 ],
 "metadata": {
  "kernelspec": {
   "display_name": "Python 3",
   "language": "python",
   "name": "python3"
  },
  "language_info": {
   "codemirror_mode": {
    "name": "ipython",
    "version": 3
   },
   "file_extension": ".py",
   "mimetype": "text/x-python",
   "name": "python",
   "nbconvert_exporter": "python",
   "pygments_lexer": "ipython3",
   "version": "3.8.3"
  }
 },
 "nbformat": 4,
 "nbformat_minor": 4
}
